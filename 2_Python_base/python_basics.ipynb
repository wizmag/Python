{
 "cells": [
  {
   "cell_type": "markdown",
   "metadata": {},
   "source": [
    "**Задание 1**. Даны 2 строки: *long_phrase* и *short_phrase*. \n",
    "Напишите код, который проверяет действительно ли длинная фраза *long_phrase* длиннее короткой *short_phrase*. И выводит *True* или *False* в зависимости от результата сравнения."
   ]
  },
  {
   "cell_type": "code",
   "execution_count": 1,
   "metadata": {},
   "outputs": [],
   "source": [
    "long_phrase = 'Насколько проще было бы писать программы, если бы не заказчики'\n",
    "short_phrase = '640Кб должно хватить для любых задач. Билл Гейтс (по легенде)'"
   ]
  },
  {
   "cell_type": "code",
   "execution_count": 2,
   "metadata": {},
   "outputs": [
    {
     "data": {
      "text/plain": [
       "True"
      ]
     },
     "execution_count": 2,
     "metadata": {},
     "output_type": "execute_result"
    }
   ],
   "source": [
    "long_phrase > short_phrase"
   ]
  },
  {
   "cell_type": "markdown",
   "metadata": {},
   "source": [
    "**Задание 2**. Дано значение объема файла в байтах (*в мегабайте 2^20 байт*). Напишите перевод этого значения в мегабайты в формате: \"*Объем файла равен 213.68Mb*\"."
   ]
  },
  {
   "cell_type": "code",
   "execution_count": 7,
   "metadata": {},
   "outputs": [
    {
     "name": "stdout",
     "output_type": "stream",
     "text": [
      "Объем файла равен 32.93 Mb\n"
     ]
    }
   ],
   "source": [
    "V = 34532400\n",
    "Razmer = round(V / 2 ** 20, 2)\n",
    "print(f'Объем файла равен {Razmer} Mb')"
   ]
  },
  {
   "cell_type": "markdown",
   "metadata": {},
   "source": [
    "**Задание 3**. Разработать приложение для определения знака зодиака по дате рождения. Пример:\n",
    "\n",
    "Введите месяц: март\n",
    "\n",
    "Введите число: 6\n",
    "\n",
    "Вывод:\n",
    "Рыбы"
   ]
  },
  {
   "cell_type": "code",
   "execution_count": 11,
   "metadata": {},
   "outputs": [
    {
     "name": "stdout",
     "output_type": "stream",
     "text": [
      "Введите месяц: август\n",
      "Введите число: 30\n",
      "Вывод: Дева\n"
     ]
    }
   ],
   "source": [
    "mounth = (input(\"Введите месяц: \")).lower()\n",
    "number = int(input(\"Введите число: \"))\n",
    "if mounth == \"январь\" and number < 20:\n",
    "    print(\"Вывод: Козерог\")\n",
    "elif mounth == \"январь\" and number >= 20:\n",
    "    print(\"Вывод: Водолей\")\n",
    "    \n",
    "elif mounth == \"февраль\" and number < 20:\n",
    "    print(\"Вывод: Водолей\")\n",
    "elif mounth == \"февраль\" and number >= 20:\n",
    "    print(\"Вывод: Рыбы\")\n",
    "    \n",
    "elif mounth == \"март\" and number < 21:\n",
    "    print(\"Вывод: Рыбы\")\n",
    "elif mounth == \"март\" and number >= 21:\n",
    "    print(\"Вывод: Овен\") \n",
    "    \n",
    "elif mounth == \"апрель\" and number < 22:\n",
    "    print(\"Вывод: Овен\")\n",
    "elif mounth == \"апрель\" and number >= 22:\n",
    "    print(\"Вывод: Телец\")   \n",
    "\n",
    "elif mounth == \"май\" and number < 22:\n",
    "    print(\"Вывод: Телец\")\n",
    "elif mounth == \"май\" and number >= 22:\n",
    "    print(\"Вывод: Близнецы\")   \n",
    "    \n",
    "elif mounth == \"июнь\" and number < 22:\n",
    "    print(\"Вывод: Близнецы\")\n",
    "elif mounth == \"июнь\" and number >= 22:\n",
    "    print(\"Вывод: Рак\")  \n",
    "    \n",
    "elif mounth == \"июль\" and number < 22:\n",
    "    print(\"Вывод: Рак\")\n",
    "elif mounth == \"июль\" and number >= 22:\n",
    "    print(\"Вывод: Лев\")\n",
    "\n",
    "elif mounth == \"август\" and number < 22:\n",
    "    print(\"Вывод: Лев\")\n",
    "elif mounth == \"август\" and number >= 22:\n",
    "    print(\"Вывод: Дева\")\n",
    "\n",
    "elif mounth == \"сентябрь\" and number < 22:\n",
    "    print(\"Вывод: Дева\")\n",
    "elif mounth == \"сентябрь\" and number >= 22:\n",
    "    print(\"Вывод: Весы\")    \n",
    "    \n",
    "elif mounth == \"октябрь\" and number < 22:\n",
    "    print(\"Вывод: Весы\")\n",
    "elif mounth == \"октябрь\" and number >= 22:\n",
    "    print(\"Вывод: Скорпион\")   \n",
    "\n",
    "elif mounth == \"ноябрь\" and number < 22:\n",
    "    print(\"Вывод: Скорпион\")\n",
    "elif mounth == \"ноябрь\" and number >= 22:\n",
    "    print(\"Вывод: Стрелец\")  \n",
    "    \n",
    "elif mounth == \"декабрь\" and number < 22:\n",
    "    print(\"Вывод: Стрелец\")\n",
    "elif mounth == \"декабрь\" and number >= 22:\n",
    "    print(\"Вывод: Козерог\")     \n",
    "    "
   ]
  },
  {
   "cell_type": "markdown",
   "metadata": {},
   "source": [
    "**Задание 4**. Нужно разработать приложение для финансового планирования.\n",
    "Приложение учитывает сколько уходит на ипотеку, \"на жизнь\" и сколько нужно отложить на пенсию.\n",
    "Пользователь вводит:\n",
    "- заработанную плату в месяц.\n",
    "- сколько процентов от ЗП уходит на ипотеку.\n",
    "- сколько процентов от ЗП уходит \"на жизнь\".\n",
    "- сколько раз приходит премия в год.\n",
    "\n",
    "Остальная часть заработанной платы откладывается на пенсию.\n",
    "\n",
    "Также пользователю приходит премия в размере зарплаты, от которой половина уходит на отпуск, а вторая половина откладывается.\n",
    "\n",
    "Программа должна учитывать сколько премий было в год.\n",
    "\n",
    "Нужно вывести сколько денег тратит пользователь на ипотеку и сколько он накопит за год.\n",
    "\n",
    "Пример:\n",
    "\n",
    "Введите заработанную плату в месяц: 100000\n",
    "\n",
    "Введите сколько процентов уходит на ипотеку: 30\n",
    "\n",
    "Введите сколько процентов уходит на жизнь: 50\n",
    "\n",
    "Введите количество премий за год: 2\n",
    "\n",
    "Вывод:\n",
    "На ипотеку было потрачено: 360000 рублей\n",
    "Было накоплено: 340000 рублей"
   ]
  },
  {
   "cell_type": "code",
   "execution_count": 20,
   "metadata": {},
   "outputs": [
    {
     "name": "stdout",
     "output_type": "stream",
     "text": [
      "Введите зарплату в месяц: 100000\n",
      "Введите сколько процентов от ЗП уходит на ипотеку: 30\n",
      "Введите сколько процентов от ЗП уходит на жизнь: 50\n",
      "Введите сколько раз приходит премия в год: 2\n",
      "На ипотеку было потрачено: 360000 рублей Было накоплено: 340000 рублей\n"
     ]
    }
   ],
   "source": [
    "zarplata = int(input(\"Введите зарплату в месяц: \"))\n",
    "percent_ipoteka = int(input(\"Введите сколько процентов от ЗП уходит на ипотеку: \"))\n",
    "percent_life = int(input(\"Введите сколько процентов от ЗП уходит на жизнь: \"))\n",
    "count_premiya = int(input(\"Введите сколько раз приходит премия в год: \"))\n",
    "\n",
    "ipoteka = round(zarplata * 12 * percent_ipoteka / 100)\n",
    "\n",
    "\n",
    "accumulation = round(zarplata * 12 * (100 - percent_ipoteka - percent_life) / 100 + zarplata * count_premiya * 0.5)\n",
    "print(f'На ипотеку было потрачено: {ipoteka} рублей Было накоплено: {accumulation} рублей')"
   ]
  },
  {
   "cell_type": "code",
   "execution_count": null,
   "metadata": {},
   "outputs": [],
   "source": []
  }
 ],
 "metadata": {
  "kernelspec": {
   "display_name": "Python 3",
   "language": "python",
   "name": "python3"
  },
  "language_info": {
   "codemirror_mode": {
    "name": "ipython",
    "version": 3
   },
   "file_extension": ".py",
   "mimetype": "text/x-python",
   "name": "python",
   "nbconvert_exporter": "python",
   "pygments_lexer": "ipython3",
   "version": "3.7.4"
  }
 },
 "nbformat": 4,
 "nbformat_minor": 2
}
