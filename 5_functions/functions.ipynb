{
 "cells": [
  {
   "cell_type": "markdown",
   "metadata": {},
   "source": [
    "Вы работаете секретарем и вам постоянно приходят различные документы. Вы должны быть очень внимательны, чтобы не потерять ни один документ. Каталог документов хранится в следующем виде:"
   ]
  },
  {
   "cell_type": "code",
   "execution_count": 1,
   "metadata": {},
   "outputs": [],
   "source": [
    "documents = [\n",
    "    {'type': 'passport', 'number': '2207 876234', 'name': 'Василий Гупкин'},\n",
    "    {'type': 'invoice', 'number': '11-2', 'name': 'Геннадий Покемонов'},\n",
    "    {'type': 'insurance', 'number': '10006', 'name': 'Аристарх Павлов'}\n",
    "]"
   ]
  },
  {
   "cell_type": "markdown",
   "metadata": {},
   "source": [
    "Перечень полок, на которых находятся документы хранится в следующем виде:"
   ]
  },
  {
   "cell_type": "code",
   "execution_count": 2,
   "metadata": {},
   "outputs": [],
   "source": [
    "directories = {\n",
    "    '1': ['2207 876234', '11-2'],\n",
    "    '2': ['10006'],\n",
    "    '3': []\n",
    "}"
   ]
  },
  {
   "cell_type": "markdown",
   "metadata": {},
   "source": [
    "Необходимо реализовать пользовательские команды (внимание! это не название функций, которые должны быть выразительными, а команды, которые вводит пользователь, чтобы получить необходимый результат):\n",
    "  \n",
    "- p – people – команда, которая спросит номер документа и выведет имя человека, которому он принадлежит;  \n",
    "- s – shelf – команда, которая спросит номер документа и выведет номер полки, на которой он находится  \n",
    "*Правильно обработайте ситуации, когда пользователь будет вводить несуществующий документ*.\n",
    "- l – list – команда, которая выведет список всех документов в формате   \n",
    "**passport \"2207 876234\" \"Василий Гупкин\"**  \n",
    "- as – add shelf – команда, которая спросит номер новой полки и добавит ее в перечень. *Предусмотрите случай, когда пользователь добавляет полку, которая уже существует*.\n",
    "- d – delete – команда, которая спросит номер документа и удалит его из каталога и из перечня полок. *Предусмотрите сценарий, когда пользователь вводит несуществующий документ*;  \n",
    "- m – move – команда, которая спросит номер документа и целевую полку и переместит его с текущей полки на целевую. *Корректно обработайте кейсы, когда пользователь пытается переместить несуществующий документ или переместить документ на несуществующую полку*;  \n",
    "- a – add – команда, которая добавит новый документ в каталог и в перечень полок, спросив его номер, тип, имя владельца и номер полки, на котором он будет храниться. *Корректно обработайте ситуацию, когда пользователь будет пытаться добавить документ на несуществующую полку*."
   ]
  },
  {
   "cell_type": "code",
   "execution_count": 4,
   "metadata": {},
   "outputs": [],
   "source": [
    "# Для выхода из функции ввести - quit\n",
    "def main():\n",
    "    while True:\n",
    "        input_user = input(\"Введите команду: \")\n",
    "        if input_user == 'p':\n",
    "            people()\n",
    "        elif input_user == 's':\n",
    "            shelf()\n",
    "        elif input_user == 'l':\n",
    "            all_list()\n",
    "        elif input_user == 'as':\n",
    "            add_shelf()\n",
    "        elif input_user == 'd':\n",
    "            deleted()\n",
    "        elif input_user == 'm':\n",
    "            move()\n",
    "        elif input_user == 'a':\n",
    "            add_person()\n",
    "        elif input_user == 'quit':\n",
    "            break"
   ]
  },
  {
   "cell_type": "code",
   "execution_count": 5,
   "metadata": {},
   "outputs": [],
   "source": [
    "def people():\n",
    "    number_doc = input(\"Введите номер документа: \")\n",
    "    name_person = \"\"\n",
    "    for data in documents:\n",
    "        if data['number'] == number_doc:\n",
    "            name_person = data['name']\n",
    "            print(\"Имя: \", name_person.split()[0])\n",
    "    if name_person == \"\":        \n",
    "        print(\"    Документ отсутствует!\")  \n",
    "\n",
    "def shelf():\n",
    "    number_doc = input(\"Введите номер документа: \")\n",
    "    number_shelf = \"\"\n",
    "    for number, docs in directories.items():\n",
    "        if number_doc in docs:\n",
    "            number_shelf = number\n",
    "            print(\"Номер полки: \", number)    \n",
    "    if number_shelf == \"\":        \n",
    "        print(\"    Документ отсутствует!\")\n",
    "\n",
    "def all_list():\n",
    "    for data in documents:\n",
    "        print(data['type'],' \"', data['number'],'\"',\" \",'\"', data['name'],'\"', sep=\"\")\n",
    "\n",
    "def add_shelf():\n",
    "    number_shelf = input(\"Введите номер новой полки: \")\n",
    "    if directories.get(number_shelf, 'empty') == 'empty':\n",
    "        directories[number_shelf] = []\n",
    "        print(\"    Полка добавлена\")\n",
    "    else:\n",
    "        print(\"    Номер полки уже существует.\")\n",
    "\n",
    "def deleted():\n",
    "    number_doc = input(\"Введите номер документа: \")\n",
    "    counter = 0\n",
    "    for data in documents:\n",
    "        if data['number'] == number_doc:\n",
    "            data['number'] = []\n",
    "            counter += 1\n",
    "            for docs in directories.values():\n",
    "                if number_doc in docs:\n",
    "                    docs.remove(number_doc)\n",
    "                    print(\"    Документ удален\")\n",
    "    if counter == 0:\n",
    "        print(\"    Документ отсутствует!\")\n",
    "\n",
    "def move():\n",
    "    number_doc = input(\"Введите номер документа: \")\n",
    "    number_shelf = input(\"Введите номер целевой полки: \")\n",
    "    counter = 0\n",
    "    if directories.get(number_shelf, 'empty') == 'empty':\n",
    "        print(\"    Номер полки отсутствует.\")\n",
    "        return\n",
    "    for docs in directories.values():\n",
    "        if number_doc in docs:\n",
    "            docs.remove(number_doc)\n",
    "            directories[number_shelf].append(number_doc)\n",
    "            counter += 1\n",
    "            print(f'    Документ перемещен на полку {number_shelf}')\n",
    "            return\n",
    "    if counter == 0:\n",
    "        print(\"    Документ отсутствует!\")\n",
    "\n",
    "def add_person():\n",
    "    number_shelf = input(\"Введите номер полки: \")\n",
    "    if directories.get(number_shelf, 'empty') == 'empty':\n",
    "        print(\"    Номер полки отсутствует.\")\n",
    "        return\n",
    "    dict = {}\n",
    "    dict['type'] = input(\"Введите тип документа: \")\n",
    "    dict['number'] = input(\"Введите номер документа: \")\n",
    "    dict['name'] = input(\"Введите имя владельца: \")\n",
    "    documents.append(dict)\n",
    "    directories[number_shelf].append(dict['number'])\n",
    "    print(\"    Данные владельца добавлены\")"
   ]
  },
  {
   "cell_type": "code",
   "execution_count": null,
   "metadata": {},
   "outputs": [],
   "source": []
  }
 ],
 "metadata": {
  "kernelspec": {
   "display_name": "Python 3",
   "language": "python",
   "name": "python3"
  },
  "language_info": {
   "codemirror_mode": {
    "name": "ipython",
    "version": 3
   },
   "file_extension": ".py",
   "mimetype": "text/x-python",
   "name": "python",
   "nbconvert_exporter": "python",
   "pygments_lexer": "ipython3",
   "version": "3.7.4"
  }
 },
 "nbformat": 4,
 "nbformat_minor": 2
}
