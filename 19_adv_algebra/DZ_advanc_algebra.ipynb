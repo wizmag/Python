{
 "cells": [
  {
   "cell_type": "code",
   "execution_count": 1,
   "metadata": {},
   "outputs": [],
   "source": [
    "import numpy as np"
   ]
  },
  {
   "cell_type": "markdown",
   "metadata": {},
   "source": [
    "# Уровень 0\n",
    "Придумайте матрицы, которые обладают следующими свойствами:\n",
    "\n",
    "a) диагональная, ортогональная, но не единичная(!):\n",
    "\n",
    "b) верхнетреугольная, ортогональная:\n",
    "\n",
    "c) нижнетреугольная, ортогональная:\n",
    "\n",
    "d) матрица, у которой определитель = 1, и все элементы не равны 0:\n",
    "\n",
    "P.S. Во всех пунктах ответом должна быть ненулевая матрица размерности не менее 2!\n"
   ]
  },
  {
   "cell_type": "code",
   "execution_count": null,
   "metadata": {},
   "outputs": [],
   "source": []
  },
  {
   "cell_type": "markdown",
   "metadata": {},
   "source": [
    "1. det[A]=1 — модуль определителя ортогональной матрицы равен единице.\n",
    "\n",
    "2. Сумма квадратов элементов каждой строки (столбца) ортогональной матрицы равна 1.\n",
    "3. Ортогональные матрицы - это матрицы, для которых транспонирование возвращает обратную матрицу. То есть перемножение ортогональной матрицы на свою же транспонированную версию возвращает единичную матрицу."
   ]
  },
  {
   "cell_type": "code",
   "execution_count": 106,
   "metadata": {},
   "outputs": [
    {
     "name": "stdout",
     "output_type": "stream",
     "text": [
      "[[ 1.   0.   0. ]\n",
      " [ 0.  10.   0. ]\n",
      " [ 0.   0.   0.1]]\n",
      "1.0000000000000004\n"
     ]
    }
   ],
   "source": [
    "#диагональная, ортогональная, но не единичная(!):\n",
    "m = np.diag([1,10,0.1])\n",
    "det = np.linalg.det(m)\n",
    "print(m)\n",
    "print(det)"
   ]
  },
  {
   "cell_type": "code",
   "execution_count": 107,
   "metadata": {},
   "outputs": [
    {
     "name": "stdout",
     "output_type": "stream",
     "text": [
      "[[ 0.2  6.   8. ]\n",
      " [ 0.   5.  12. ]\n",
      " [ 0.   0.   1. ]]\n",
      "1.0\n"
     ]
    }
   ],
   "source": [
    "#верхнетреугольная, ортогональная:\n",
    "m1 = np.triu([[0.2,6,8],[4,5,12],[3,1,1]], 0)\n",
    "det1 = np.linalg.det(m1)\n",
    "print(m1)\n",
    "print(det1)"
   ]
  },
  {
   "cell_type": "code",
   "execution_count": 115,
   "metadata": {},
   "outputs": [
    {
     "name": "stdout",
     "output_type": "stream",
     "text": [
      "[[ 2.    0.    0.    0.  ]\n",
      " [ 4.    0.05  0.    0.  ]\n",
      " [ 3.    1.   20.    0.  ]\n",
      " [ 2.    3.    4.    0.5 ]]\n",
      "1.0\n"
     ]
    }
   ],
   "source": [
    "#нижнетреугольная, ортогональная:\n",
    "m2 = np.tril([[2,3,6,8],[4,0.05,4,12],[3,1,20,1], [2,3,4,0.5]], 0)\n",
    "det2 = np.linalg.det(m2)\n",
    "print(m2)\n",
    "print(det2)"
   ]
  },
  {
   "cell_type": "code",
   "execution_count": 174,
   "metadata": {},
   "outputs": [
    {
     "name": "stdout",
     "output_type": "stream",
     "text": [
      "[[ 1.   10.    0.1 ]\n",
      " [ 0.2   5.    1.  ]\n",
      " [ 0.4   8.    1.68]]\n",
      "1.0\n"
     ]
    }
   ],
   "source": [
    "# матрица, у которой определитель = 1, и все элементы не равны 0\n",
    "m3 = np.array([[1,10,0.1],[0.2,5,1],[0.4,8,1.68]])\n",
    "det3 = np.linalg.det(m3)\n",
    "print(m3)\n",
    "print(det3)"
   ]
  },
  {
   "cell_type": "code",
   "execution_count": null,
   "metadata": {},
   "outputs": [],
   "source": []
  },
  {
   "cell_type": "code",
   "execution_count": null,
   "metadata": {},
   "outputs": [],
   "source": []
  },
  {
   "cell_type": "code",
   "execution_count": null,
   "metadata": {},
   "outputs": [],
   "source": []
  },
  {
   "cell_type": "code",
   "execution_count": null,
   "metadata": {},
   "outputs": [],
   "source": []
  }
 ],
 "metadata": {
  "kernelspec": {
   "display_name": "Python 3",
   "language": "python",
   "name": "python3"
  },
  "language_info": {
   "codemirror_mode": {
    "name": "ipython",
    "version": 3
   },
   "file_extension": ".py",
   "mimetype": "text/x-python",
   "name": "python",
   "nbconvert_exporter": "python",
   "pygments_lexer": "ipython3",
   "version": "3.7.4"
  }
 },
 "nbformat": 4,
 "nbformat_minor": 2
}
